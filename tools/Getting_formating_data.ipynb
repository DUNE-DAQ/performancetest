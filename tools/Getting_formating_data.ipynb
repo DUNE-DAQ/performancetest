{
 "cells": [
  {
   "cell_type": "markdown",
   "id": "237e1111",
   "metadata": {},
   "source": [
    "# Notebook for optaining data and prosses it\n",
    "To extract the data from a given dashboard in grafana: \n",
    "**extract_grafana_data(datasource_url, grafana_url, dashboard_uid, delta_time, host, partition, input_dir, output_csv_file)**\n",
    "* **datasource_url** is **'http://np04-srv-016.cern.ch:31093'** (prometeus url)\n",
    "* **grafana_url** is **'http://np04-srv-017.cern.ch:31023'**\n",
    "* **dashboard_uid** is the unique dashboard identifier, you can find this information on the link of the dashboard. The dashboard_uid code is in the web link after/d/.../. The input for the 'dashboard_uid' parameter should be a list of the dashboard IDs you want to extract data from.\n",
    "    * for intel-r-performance-counter-monitor-intel-r-pcm dashboard dashboard_uid = **'A_CvwTCWk'**\n",
    "* **delta_time** is the **[start, end]** data given in the format **'%Y-%m-%d %H:%M:%S'**.\n",
    "* **partition** is the partition name where the test was ran, for example **'np04-daq' or 'np04hddev'**\n",
    "* **host** is the name of the server in study, for example: **'np02-srv-003'** (<- running readout app)\n",
    "* **output_csv_file** is the name of the file to be strore: **[version]-[server_app_tested]-[socket_num]-[data_format]-[tests_name]**\n",
    "    * example of name: **v4_4_6-np02srv003-0-eth-SNB_recording**\n",
    "\n",
    "#### Note: change the paths to fit yours"
   ]
  },
  {
   "cell_type": "code",
   "execution_count": null,
   "id": "0ebfdfe7",
   "metadata": {},
   "outputs": [],
   "source": [
    "# Import the modules needed, defining paths and functions\n",
    "\n",
    "from basic_functions import *\n",
    "\n",
    "results_path = 'test_data' #<----- Example data\n",
    "\n",
    "basic_path ='/eos/home-d/dvargas/For_UoT'\n",
    "results_path0 = f'{basic_path}/performance_results/1CRP_np02srv003'\n",
    "results_path1 = f'{basic_path}/performance_results/1CRP_np02srv001'\n",
    "results_path2 = f'{basic_path}/performance_results/2CRPs_np02srv003'\n",
    "results_path3 = f'{basic_path}/performance_results/2CRPs_np04srv031'\n",
    "results_path4 = f'{basic_path}/performance_results/2CRPs_intel'\n",
    "results_path5 = f'{basic_path}/performance_results/2CRPs_all'\n",
    "results_path6 = f'{basic_path}/performance_results/2CRPs_amd'\n",
    "results_path7 = f'{basic_path}/performance_results/2CRPs_np02srv001'\n",
    "results_path8 = f'{basic_path}/performance_results/2x2CRPs_np04srv031'\n",
    "results_path9 = f'{basic_path}/performance_results/1CRP_all'\n",
    "\n",
    "grafana_url = 'http://np04-srv-017.cern.ch:31023'\n",
    "grafana_url_k8 = 'http://http://np04-srv-017:31003'\n",
    "prometheus_url = 'http://np04-srv-016.cern.ch:31093'\n",
    "opmon_url = 'http://opmon-influxdb.opmon.svc:8086'\n",
    "\n",
    "print('Ready to run')"
   ]
  },
  {
   "cell_type": "code",
   "execution_count": null,
   "id": "0574a666",
   "metadata": {},
   "outputs": [],
   "source": [
    "# Example data: extract the data from a given dashboard in grafana\n",
    "extract_grafana_data(datasource_url=prometheus_url, \n",
    "                    grafana_url=grafana_url, \n",
    "                    dashboard_uid=['A_CvwTCWk'], \n",
    "                    delta_time=['2024-08-27 11:15:39', '2024-08-27 11:32:07'], \n",
    "                    host='np04-srv-031',  \n",
    "                    partition='np04-daq',\n",
    "                    input_dir=results_path, \n",
    "                    output_csv_file='v4_4_6-np04srv031-10-eth-test_data')\n"
   ]
  },
  {
   "cell_type": "code",
   "execution_count": null,
   "id": "2701d1e0",
   "metadata": {},
   "outputs": [],
   "source": [
    "## dvargas: extract the data from a given dashboard in grafana\n",
    "output_csv_file_0 = ['v4_4_6-np02srv003-1-eth-singlenic_tp_numa1', 'v4_4_6-np02srv003-1-eth-singlenic_tp_recording_numa1']\n",
    "dates_0 = [['2024-08-26 14:39:59', '2024-08-26 14:56:14'], ['2024-08-26 15:00:25', '2024-08-26 15:16:55']]\n",
    "\n",
    "for dates, output_file in zip(dates_0, output_csv_file_0):\n",
    "    extract_grafana_data(datasource_url=prometheus_url, \n",
    "                        grafana_url=grafana_url, \n",
    "                        dashboard_uid=['A_CvwTCWk'], \n",
    "                        delta_time=dates,\n",
    "                        host='np02-srv-003',  \n",
    "                        partition='np04-daq',\n",
    "                        input_dir=results_path0, \n",
    "                        output_csv_file=output_file)\n",
    "\n",
    "output_csv_file_1 = ['v4_4_6-np04srv031-10-eth-dualnic_tp_numa30', 'v4_4_6-np04srv031-10-eth-dualnic_tp_recording_numa30']\n",
    "dates_1 = [['2024-08-27 11:15:39', '2024-08-27 11:32:07'], ['2024-08-27 11:40:16', '2024-08-27 11:56:17']]\n",
    "\n",
    "for dates, output_file in zip(dates_1, output_csv_file_1):\n",
    "    for results_path_list in [results_path3, results_path4]:\n",
    "        extract_grafana_data(datasource_url=prometheus_url, \n",
    "                            grafana_url=grafana_url, \n",
    "                            dashboard_uid=['A_CvwTCWk'], \n",
    "                            delta_time=dates, \n",
    "                            host='np04-srv-031',  \n",
    "                            partition='np04-daq',\n",
    "                            input_dir=results_path_list, \n",
    "                            output_csv_file=output_file)\n",
    "\n",
    "output_csv_file_2 = ['v4_4_6-np04srv031-1-eth-double_dualnic_tp_numa31', 'v4_4_6-np04srv031-1-eth-double_dualnic_tp_recording_numa31',\n",
    "                     'v4_4_6-np04srv031-0-eth-double_dualnic_tp_numa20', 'v4_4_6-np04srv031-0-eth-double_dualnic_tp_recording_numa20']\n",
    "dates_2 = [['2024-08-27 12:04:52', '2024-08-27 12:21:05'], ['2024-08-26 12:56:13', '2024-08-26 13:12:29'], \n",
    "        ['2024-08-27 12:25:34', '2024-08-27 12:41:38'], ['2024-08-27 12:45:57', '2024-08-27 13:02:07']]\n",
    "\n",
    "for dates, output_file in zip(dates_2, output_csv_file_2):\n",
    "    extract_grafana_data(datasource_url=prometheus_url, \n",
    "                        grafana_url=grafana_url, \n",
    "                        dashboard_uid=['A_CvwTCWk'], \n",
    "                        delta_time=dates, \n",
    "                        host='np04-srv-031',\n",
    "                        partition='np04-daq',\n",
    "                        input_dir=results_path8, \n",
    "                        output_csv_file=output_file)\n",
    "\n",
    "print('Done')"
   ]
  },
  {
   "cell_type": "markdown",
   "id": "21e0b3e2",
   "metadata": {},
   "source": [
    "### Processing the data files\n",
    "\n",
    "**process_files(input_dir, process_pcm_files=False, process_uprof_files=False, process_core_files=False)**\n",
    "\n",
    "After processing the files, you want to print the lists of files you have in the folder so you can create the entries for generate the report:\n",
    "* **input_dir** directory where the results of the test where you saved the UPROF and/or core utilisation files too.\n",
    "* **process_pcm_files**, **process_uprof_files**, and **process_core_files** are to indicate which type of file should be process."
   ]
  },
  {
   "cell_type": "code",
   "execution_count": null,
   "id": "46fc8ac9",
   "metadata": {},
   "outputs": [],
   "source": [
    "## Example data: processing file data of all the files in the directory\n",
    "\n",
    "process_files(input_dir=results_path, process_pcm_files=True, process_uprof_files=True, process_core_files=True)\n",
    "pcm_list, uprof_list, core_utilization_list, all_list = make_name_list(input_dir=list_path)\n",
    "print(f'{results_path} ---> {all_list}')\n",
    "\n",
    "print('Done')"
   ]
  },
  {
   "cell_type": "code",
   "execution_count": null,
   "id": "a6268724-cb8f-4d52-b472-5f9b58dbd5db",
   "metadata": {},
   "outputs": [],
   "source": [
    "## dvargas: processing file data of all the files in the directory\n",
    "\n",
    "intel_pahts = [results_path0, results_path2, results_path3, results_path4, results_path8]\n",
    "amd_pahts = [results_path1, results_path6, results_path7]\n",
    "all_paths = [intel_pahts, amd_pahts]\n",
    "\n",
    "for paths, pcm_i, uprof_i in zip(all_paths, [True, False], [False, True]):\n",
    "    for list_path in paths:\n",
    "        process_files(input_dir=list_path, process_pcm_files=pcm_i, process_uprof_files=uprof_i, process_core_files=True)\n",
    "        pcm_list, uprof_list, core_utilization_list, all_list = make_name_list(input_dir=list_path)\n",
    "        print(f'{list_path}')\n",
    "        print(f' |')\n",
    "        print(f'  ----> {all_list}')\n",
    "\n",
    "print('Done')"
   ]
  }
 ],
 "metadata": {
  "@webio": {
   "lastCommId": null,
   "lastKernelId": null
  },
  "kernelspec": {
   "display_name": "Python 3",
   "language": "python",
   "name": "python3"
  },
  "language_info": {
   "codemirror_mode": {
    "name": "ipython",
    "version": 3
   },
   "file_extension": ".py",
   "mimetype": "text/x-python",
   "name": "python",
   "nbconvert_exporter": "python",
   "pygments_lexer": "ipython3",
   "version": "3.7.6"
  }
 },
 "nbformat": 4,
 "nbformat_minor": 5
}
