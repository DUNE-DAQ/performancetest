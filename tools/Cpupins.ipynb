{
 "cells": [
  {
   "cell_type": "markdown",
   "id": "e0f4fce1",
   "metadata": {},
   "source": [
    "## Creating the cpupins files"
   ]
  },
  {
   "cell_type": "code",
   "execution_count": null,
   "id": "98cc71a7",
   "metadata": {
    "scrolled": true
   },
   "outputs": [],
   "source": [
    "# Funtions needed\n",
    "\n",
    "def append_lists(list1, list2):\n",
    "    for i in list2:\n",
    "        list1.append(i)\n",
    "    return list1\n",
    "\n",
    "def get_parents(cpus_node):\n",
    "    parents0_tmp=cpus_node[0]\n",
    "    parents1_tmp=cpus_node[1]\n",
    "    parents0=parents0_tmp[:4]\n",
    "    parents1=parents1_tmp[:4]\n",
    "    parents=append_lists(parents0, parents1)\n",
    "    return parents \n",
    "\n",
    "def cpupins_files(readout_app, cpus, use_raw_recording=False, use_swtpgs=False):                      \n",
    "    parents0=get_parents(cpus[0])\n",
    "    parents1=get_parents(cpus[1])                \n",
    "       \n",
    "    print('{ ')\n",
    "    print('    \"daq_application\": { ')\n",
    "    print('        \"--name {}\": {} '.format(readout_app[0], '{'))\n",
    "    print('            \"parent\": \"{}\", '.format(parents0))\n",
    "    print('            \"threads\": { ')\n",
    "    pins(cpu_pins=cpus[0], use_raw_recording=use_raw_recording, use_swtpgs=use_swtpgs)\n",
    "    print('            } ')\n",
    "    print('        }, ')\n",
    "    print('          ')\n",
    "    print('        \"--name {}\": {} '.format(readout_app[1], '{'))\n",
    "    print('            \"parent\": \"{}\", '.format(parents1))\n",
    "    print('            \"threads\": { ')\n",
    "    pins(cpu_pins=cpus[1], use_raw_recording=use_raw_recording, use_swtpgs=use_swtpgs)\n",
    "    print('            } ')\n",
    "    print('        } ')\n",
    "    print('    } ')\n",
    "    print('} ')\n",
    "\n",
    "def pins(cpu_pins, use_raw_recording=False, use_swtpgs=False):\n",
    "    l=cpu_pins[0]\n",
    "    m=cpu_pins[1]\n",
    "    \n",
    "    for i in range(0, 6):\n",
    "        print('               \"fakeprod-({}|{}|{}|{}|{}|{}|{}|{})\":[{},{}],'.format(i, i+6, i+12, i+18, i+24, i+30, i+36, i+42, l[4+i], m[4+i]))\n",
    "\n",
    "    print('                     ')\n",
    "\n",
    "    for i in range(0, 6):\n",
    "        if use_raw_recording and use_swtpgs:\n",
    "            print('               \"consumer-({}|{}|{}|{}|{}|{}|{}|{})\":[{},{}],'.format(i, i+6, i+12, i+18, i+24, i+30, i+36, i+42, l[10+i], m[10+i]))\n",
    "        else:    \n",
    "            if i==5:\n",
    "                print('               \"consumer-({}|{}|{}|{}|{}|{}|{}|{})\":[{},{}]'.format(i, i+6, i+12, i+18, i+24, i+30, i+36, i+42, l[10+i], m[10+i]))\n",
    "            else:\n",
    "                print('               \"consumer-({}|{}|{}|{}|{}|{}|{}|{})\":[{},{}],'.format(i, i+6, i+12, i+18, i+24, i+30, i+36, i+42, l[10+i], m[10+i]))\n",
    "\n",
    "    print('                     ')\n",
    "\n",
    "    if use_raw_recording:\n",
    "        for i in range(0, 6):\n",
    "            if use_swtpgs:\n",
    "                print('               \"recording-({}|{}|{}|{}|{}|{}|{}|{})\":[{},{}],'.format(i, i+6, i+12, i+18, i+24, i+30, i+36, i+42, l[10+i], m[10+i]))\n",
    "            else:\n",
    "                if i==5:\n",
    "                    print('               \"recording-({}|{}|{}|{}|{}|{}|{}|{})\":[{},{}]'.format(i, i+6, i+12, i+18, i+24, i+30, i+36, i+42, l[10+i], m[10+i]))\n",
    "                else:\n",
    "                    print('               \"recording-({}|{}|{}|{}|{}|{}|{}|{})\":[{},{}],'.format(i, i+6, i+12, i+18, i+24, i+30, i+36, i+42, l[10+i], m[10+i]))\n",
    "                \n",
    "    print('                     ')\n",
    "\n",
    "    if use_swtpgs:    \n",
    "        for i in range(0, 12):\n",
    "            print('               \"postproc-0-({}|{}|{}|{})\": [{}],'.format(i, i+12, i+24, i+36, l[16+i]))\n",
    "\n",
    "        print('                     ')\n",
    "\n",
    "        for i in range(0, 12):\n",
    "            if i == 11:\n",
    "                print('               \"postproc-1-({}|{}|{}|{})\": [{}]'.format(i, i+12, i+24, i+36, m[16+i]))  \n",
    "            else:\n",
    "                print('               \"postproc-1-({}|{}|{}|{})\": [{}],'.format(i, i+12, i+24, i+36, m[16+i]))    \n",
    "                    \n",
    "print('DONE')"
   ]
  },
  {
   "cell_type": "code",
   "execution_count": null,
   "id": "f31be026",
   "metadata": {
    "scrolled": false
   },
   "outputs": [],
   "source": [
    "#CPUPINING FILE for np02srv003\n",
    "\n",
    "np02srv003_node0_cpus=[[ 0,  2,  4,  6,  8, 10, 12, 14, 16, 18, 20, 22, 24, 26, 28, 30, 32, 34, 36, 38, 40, 42,  44,  46,  48,  50,  52,  54], \n",
    "                       [56, 58, 60, 62, 64, 66, 68, 70, 72, 74, 76, 78, 80, 82, 84, 86, 88, 90, 92, 94, 96, 98, 100, 102, 104, 106, 108, 110]]\n",
    "\n",
    "np02srv003_node1_cpus=[[ 1,  3,  5,  7,  9, 11, 13, 15, 17, 19, 21, 23, 25, 27, 29, 31, 33, 35, 37, 39, 41, 43,  45,  47,  49,  51,  53,  55], \n",
    "                       [57, 59, 61, 63, 65, 67, 69, 71, 73, 75, 77, 79, 81, 83, 85, 87, 89, 91, 93, 95, 97, 99, 101, 103, 105, 107, 109, 111]]\n",
    "\n",
    "cpupins_files(readout_app=['runp02srv003eth0', 'runp02srv003eth1'], cpus=[np02srv003_node0_cpus, np02srv003_node1_cpus], use_raw_recording=True, use_swtpgs=True)\n"
   ]
  },
  {
   "cell_type": "code",
   "execution_count": null,
   "id": "979b329b",
   "metadata": {
    "scrolled": true
   },
   "outputs": [],
   "source": [
    "#CPUPINING FILE for np02srv004\n",
    "\n",
    "np02srv004_node0_cpus=[[  0,   1,   2,   3,   4,   5,   6,   7,   8,   9,  10,  11,  12,  13,  14,  15,  16,  17,  18,  19,  20,  21,  22,  23,  24,  25,  26,  27,  28,  29,  30,  31,  32,  33,  34,  35,  36,  37,  38,  39,  40,  41,  42,  43,  44,  45,  46,  47,  48,  49,  50,  51,  52,  53,  54,  55,  56,  57,  58,  59,  60,  61,  62,  63], \n",
    "                       [128, 129, 130, 131, 132, 133, 134, 135, 136, 137, 138, 139, 140, 141, 142, 143, 144, 145, 146, 147, 148, 149, 150, 151, 152, 153, 154, 155, 156, 157, 158, 159, 160, 161, 162, 163, 164, 165, 166, 167, 168, 169, 170, 171, 172, 173, 174, 175, 176, 177, 178, 179, 180, 181, 182, 183, 184, 185, 186, 187, 188, 189, 190, 191]]\n",
    "\n",
    "np02srv004_node1_cpus=[[ 64,  65,  66,  67,  68,  69,  70,  71,  72,  73,  74,  75,  76,  77,  78,  79,  80,  81,  82,  83,  84,  85,  86,  87,  88,  89,  90,  91,  92,  93,  94,  95,  96,  97,  98,  99, 100, 101, 102, 103, 104, 105, 106, 107, 108, 109, 110, 111, 112, 113, 114, 115, 116, 117, 118, 119, 120, 121, 122, 123, 124, 125, 126, 127], \n",
    "                       [192, 193, 194, 195, 196, 197, 198, 199, 200, 201, 202, 203, 204, 205, 206, 207, 208, 209, 210, 211, 212, 213, 214, 215, 216, 217, 218, 219, 220, 221, 222, 223, 224, 225, 226, 227, 228, 229, 230, 231, 232, 233, 234, 235, 236, 237, 238, 239, 240, 241, 242, 243, 244, 245, 246, 247, 248, 249, 250, 251, 252, 253, 254, 255]]\n",
    "\n",
    "cpupins_files(readout_app=['runp02srv004eth0', 'runp02srv004eth1'], cpus=[np02srv004_node0_cpus, np02srv004_node1_cpus], use_raw_recording=True, use_swtpgs=True)\n"
   ]
  },
  {
   "cell_type": "code",
   "execution_count": null,
   "id": "c98e99e3",
   "metadata": {},
   "outputs": [],
   "source": []
  }
 ],
 "metadata": {
  "@webio": {
   "lastCommId": null,
   "lastKernelId": null
  },
  "kernelspec": {
   "display_name": "Python 3",
   "language": "python",
   "name": "python3"
  },
  "language_info": {
   "codemirror_mode": {
    "name": "ipython",
    "version": 3
   },
   "file_extension": ".py",
   "mimetype": "text/x-python",
   "name": "python",
   "nbconvert_exporter": "python",
   "pygments_lexer": "ipython3",
   "version": "3.9.12"
  }
 },
 "nbformat": 4,
 "nbformat_minor": 5
}
