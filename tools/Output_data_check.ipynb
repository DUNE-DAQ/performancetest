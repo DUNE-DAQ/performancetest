{
 "cells": [
  {
   "cell_type": "code",
   "execution_count": 3,
   "id": "aa275981",
   "metadata": {},
   "outputs": [],
   "source": [
    "import struct\n",
    "\n",
    "def output_file_check(input_dir, file, chunk_size):\n",
    "    try:\n",
    "        with open('{}/{}.out'.format(input_dir, file), 'rb') as f:\n",
    "            while True:\n",
    "                chunk = f.read(chunk_size)\n",
    "                if not chunk:\n",
    "                    break\n",
    "                print(chunk)\n",
    "                yield chunk  # Use a generator to yield data chunks\n",
    "\n",
    "    except FileNotFoundError:\n",
    "        print('The file {}/{}.out was not found'.format(input_dir, file))\n",
    "    except Exception as e:\n",
    "        print('An error occurred: {}'.format(str(e)))\n",
    "\n",
    "def parse_data(data_chunk):\n",
    "    if len(data_chunk) != 10:  # Adjust this length to match your actual data structure\n",
    "        return None  # Handle incomplete data\n",
    "\n",
    "    # Define a format string according to your data structure\n",
    "    format_string = \"Ih4s\"  # Example format for a 4-byte unsigned int, 2-byte short, and 4-byte string\n",
    "    # Unpack the binary data\n",
    "    unpacked_data = struct.unpack(format_string, data_chunk)\n",
    "    return unpacked_data\n",
    "\n",
    "    print('Ready to run and process')\n",
    "\n",
    "\n",
    "### Specify the path to your .out file"
   ]
  },
  {
   "cell_type": "code",
   "execution_count": null,
   "id": "1ce8498a",
   "metadata": {},
   "outputs": [],
   "source": []
  }
 ],
 "metadata": {
  "kernelspec": {
   "display_name": "Python 3",
   "language": "python",
   "name": "python3"
  },
  "language_info": {
   "codemirror_mode": {
    "name": "ipython",
    "version": 3
   },
   "file_extension": ".py",
   "mimetype": "text/x-python",
   "name": "python",
   "nbconvert_exporter": "python",
   "pygments_lexer": "ipython3",
   "version": "3.9.12"
  }
 },
 "nbformat": 4,
 "nbformat_minor": 5
}
